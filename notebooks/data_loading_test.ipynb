{
 "cells": [
  {
   "cell_type": "code",
   "execution_count": null,
   "metadata": {},
   "outputs": [],
   "source": [
    "# notebooks/data_loading_test.ipynb\n",
    "\n",
    "from scripts.load_data import load_and_preprocess\n",
    "\n",
    "# Load and preprocess the dataset\n",
    "dataset = load_and_preprocess('imdb')\n",
    "\n",
    "# Display dataset information\n",
    "print(dataset)"
   ]
  }
 ],
 "metadata": {
  "kernelspec": {
   "display_name": "llm-finetuning",
   "language": "python",
   "name": "python3"
  },
  "language_info": {
   "name": "python",
   "version": "3.10.16"
  }
 },
 "nbformat": 4,
 "nbformat_minor": 2
}
