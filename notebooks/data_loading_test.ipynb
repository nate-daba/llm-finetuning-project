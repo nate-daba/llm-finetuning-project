{
 "cells": [
  {
   "cell_type": "code",
   "execution_count": 2,
   "metadata": {},
   "outputs": [
    {
     "name": "stdout",
     "output_type": "stream",
     "text": [
      "Updated sys.path: ['/Users/natnaeldaba/Documents/Documents/Academia/UofA/Sixth_semester/llm-finetuning-project', '/opt/homebrew/Caskroom/miniforge/base/envs/llm-finetuning/lib/python310.zip', '/opt/homebrew/Caskroom/miniforge/base/envs/llm-finetuning/lib/python3.10', '/opt/homebrew/Caskroom/miniforge/base/envs/llm-finetuning/lib/python3.10/lib-dynload', '', '/opt/homebrew/Caskroom/miniforge/base/envs/llm-finetuning/lib/python3.10/site-packages']\n"
     ]
    },
    {
     "name": "stderr",
     "output_type": "stream",
     "text": [
      "/opt/homebrew/Caskroom/miniforge/base/envs/llm-finetuning/lib/python3.10/site-packages/tqdm/auto.py:21: TqdmWarning: IProgress not found. Please update jupyter and ipywidgets. See https://ipywidgets.readthedocs.io/en/stable/user_install.html\n",
      "  from .autonotebook import tqdm as notebook_tqdm\n",
      "Generating train split: 100%|██████████| 25000/25000 [00:00<00:00, 378771.55 examples/s]\n",
      "Generating test split: 100%|██████████| 25000/25000 [00:00<00:00, 523659.61 examples/s]\n",
      "Generating unsupervised split: 100%|██████████| 50000/50000 [00:00<00:00, 452542.97 examples/s]"
     ]
    },
    {
     "name": "stdout",
     "output_type": "stream",
     "text": [
      "DatasetDict({\n",
      "    train: Dataset({\n",
      "        features: ['text', 'label'],\n",
      "        num_rows: 22500\n",
      "    })\n",
      "    test: Dataset({\n",
      "        features: ['text', 'label'],\n",
      "        num_rows: 25000\n",
      "    })\n",
      "    unsupervised: Dataset({\n",
      "        features: ['text', 'label'],\n",
      "        num_rows: 50000\n",
      "    })\n",
      "    validation: Dataset({\n",
      "        features: ['text', 'label'],\n",
      "        num_rows: 2500\n",
      "    })\n",
      "})\n"
     ]
    },
    {
     "name": "stderr",
     "output_type": "stream",
     "text": [
      "\n"
     ]
    }
   ],
   "source": [
    "import sys\n",
    "from pathlib import Path\n",
    "\n",
    "# Get the parent directory of the current notebook\n",
    "parent_dir = Path().resolve().parent\n",
    "\n",
    "# Convert to string and insert into sys.path\n",
    "sys.path.insert(0, str(parent_dir))\n",
    "\n",
    "# Verify the updated sys.path\n",
    "print(\"Updated sys.path:\", sys.path)\n",
    "\n",
    "from scripts.load_data import load_and_preprocess\n",
    "\n",
    "# Load and preprocess the dataset\n",
    "dataset = load_and_preprocess('imdb')\n",
    "\n",
    "# Display dataset information\n",
    "print(dataset)"
   ]
  },
  {
   "cell_type": "code",
   "execution_count": null,
   "metadata": {},
   "outputs": [],
   "source": []
  }
 ],
 "metadata": {
  "kernelspec": {
   "display_name": "llm-finetuning",
   "language": "python",
   "name": "python3"
  },
  "language_info": {
   "codemirror_mode": {
    "name": "ipython",
    "version": 3
   },
   "file_extension": ".py",
   "mimetype": "text/x-python",
   "name": "python",
   "nbconvert_exporter": "python",
   "pygments_lexer": "ipython3",
   "version": "3.10.16"
  }
 },
 "nbformat": 4,
 "nbformat_minor": 2
}
